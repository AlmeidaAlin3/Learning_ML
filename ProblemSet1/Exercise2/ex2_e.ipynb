{
  "nbformat": 4,
  "nbformat_minor": 0,
  "metadata": {
    "colab": {
      "name": "P2_e.ipynb",
      "provenance": [],
      "collapsed_sections": []
    },
    "kernelspec": {
      "name": "python3",
      "display_name": "Python 3"
    }
  },
  "cells": [
    {
      "cell_type": "code",
      "metadata": {
        "id": "t_AapstjjCe0",
        "colab_type": "code",
        "colab": {}
      },
      "source": [
        "# Add intercept \n",
        "import numpy as np\n",
        "def add_intercept(X):\n",
        "    \"\"\" Returns: New matrix same as X with 1's in the 0th column. \"\"\"\n",
        "    new_X = X.to_numpy()\n",
        "    new_X = np.zeros((X.shape[0], X.shape[1]+1), dtype = np.float)\n",
        "    new_X[:, 0] = 1\n",
        "    new_X[:,1:] = X\n",
        "    new_X = pd.DataFrame(new_X)\n",
        "\n",
        "    return new_X"
      ],
      "execution_count": 1,
      "outputs": []
    },
    {
      "cell_type": "code",
      "metadata": {
        "id": "UsziLwkYh0FT",
        "colab_type": "code",
        "colab": {}
      },
      "source": [
        "import pandas as pd\n",
        "import numpy as np\n",
        "\n",
        "#load data\n",
        "train_path = \"/content/drive/My Drive/Colab Notebooks/CS229/ps1/data/ds3_train.csv\"\n",
        "eval_path = \"/content/drive/My Drive/Colab Notebooks/CS229/ps1/data/ds3_valid.csv\"\n",
        "test_path = \"/content/drive/My Drive/Colab Notebooks/CS229/ps1/data/ds3_test.csv\"\n",
        "\n",
        "train = pd.read_csv(train_path)\n",
        "X_train = train.copy().drop(axis=1, columns=[\"y\", \"t\"])\n",
        "X_train = add_intercept(X_train)\n",
        "y_train = train[\"y\"]\n",
        "t_train = train[\"t\"]\n",
        "\n",
        "eval = pd.read_csv(eval_path)\n",
        "X_eval = eval.copy().drop(axis=1, columns=[\"y\", \"t\"])\n",
        "X_eval = add_intercept(X_eval)\n",
        "y_eval = eval[\"y\"]\n",
        "t_eval = eval[\"t\"]\n",
        "\n",
        "test = pd.read_csv(test_path)\n",
        "X_test = test.copy().drop(axis=1, columns=[\"y\", \"t\"])\n",
        "X_test = add_intercept(X_test)\n",
        "y_test = test[\"y\"]\n",
        "t_test = test[\"t\"]"
      ],
      "execution_count": 2,
      "outputs": []
    },
    {
      "cell_type": "code",
      "metadata": {
        "id": "z4rgf5HpuD7W",
        "colab_type": "code",
        "colab": {}
      },
      "source": [
        "class LogisticRegression(object):\n",
        "    def __init__(self, theta=None):\n",
        "        self.theta = None\n",
        "\n",
        "    def fit(self, X, y, eps=1e-5):    \n",
        "        #function g\n",
        "        self.eps = eps\n",
        "        g = lambda X: 1 / (1 + np.exp(-X))\n",
        "        m, n = X.shape\n",
        "        \n",
        "        # starting theta = 0\n",
        "        if self.theta is None:\n",
        "            self.theta = np.zeros(n)\n",
        "        \n",
        "        # update theta\n",
        "        while True:\n",
        "            theta = self.theta\n",
        "            \n",
        "            # J \n",
        "            X_theta = X.dot(theta)\n",
        "            J = -(1/m)*(y-g(X_theta)).dot(X)\n",
        "            \n",
        "            # H \n",
        "            H = (1/m)*g(X_theta).dot(g(1-X_theta))*(X.T).dot(X)\n",
        "            H_inv = np.linalg.inv(H)\n",
        "            \n",
        "            # theta update using Newton's Method\n",
        "            self.theta = theta - H_inv.dot(J)\n",
        "         \n",
        "            # if norm is small, then break\n",
        "            if np.linalg.norm(self.theta-theta, ord=1)<self.eps:\n",
        "                break\n",
        "\n",
        "    def predict(self, X):\n",
        "        g = lambda X: 1 / (1 + np.exp(-X))\n",
        "        preds = g(X.dot(self.theta))\n",
        "        return preds"
      ],
      "execution_count": 3,
      "outputs": []
    },
    {
      "cell_type": "code",
      "metadata": {
        "id": "7qS5Arpgry7A",
        "colab_type": "code",
        "colab": {
          "base_uri": "https://localhost:8080/",
          "height": 34
        },
        "outputId": "b7aebbd9-256e-4cb3-9334-f518e9ebb66c"
      },
      "source": [
        "import matplotlib.pyplot as plt\n",
        "%matplotlib inline\n",
        "\n",
        "#train a logistic regression classifier\n",
        "model = LogisticRegression()\n",
        "model.fit(X_train.to_numpy(), y_train.to_numpy())\n",
        "model.theta"
      ],
      "execution_count": 4,
      "outputs": [
        {
          "output_type": "execute_result",
          "data": {
            "text/plain": [
              "array([-2.83903287,  0.73041906,  0.09775442])"
            ]
          },
          "metadata": {
            "tags": []
          },
          "execution_count": 4
        }
      ]
    },
    {
      "cell_type": "code",
      "metadata": {
        "id": "62j0j9a3UZqU",
        "colab_type": "code",
        "colab": {
          "base_uri": "https://localhost:8080/",
          "height": 34
        },
        "outputId": "414f5cd3-3ce4-4506-e481-c26b8522ca59"
      },
      "source": [
        "y_pred = model.predict(X_eval.to_numpy())\n",
        "alpha = y_pred[y_eval==1].sum() / (y_eval==1).sum()\n",
        "print(alpha)"
      ],
      "execution_count": 5,
      "outputs": [
        {
          "output_type": "stream",
          "text": [
            "0.17174561668922697\n"
          ],
          "name": "stdout"
        }
      ]
    },
    {
      "cell_type": "code",
      "metadata": {
        "id": "Py2s0c_Cu_6I",
        "colab_type": "code",
        "colab": {
          "base_uri": "https://localhost:8080/",
          "height": 279
        },
        "outputId": "7b4e0f83-057b-44ba-a9ff-3a2cae3bbb70"
      },
      "source": [
        "# Plot decision boundary on top of validation set \n",
        "\n",
        "correction = 1 + (np.log(2/alpha-1)/model.theta[0])\n",
        "\n",
        "plt.plot(test[test[\"t\"]==1][\"x_1\"], test[test[\"t\"]==1][\"x_2\"], \"bx\")\n",
        "plt.plot(test[test[\"t\"]==0][\"x_1\"], test[test[\"t\"]==0][\"x_2\"], \"go\")\n",
        "plt.xlabel(\"x1\")\n",
        "plt.ylabel(\"x2\")\n",
        "\n",
        "X_test = X_test.to_numpy()\n",
        "theta = model.theta\n",
        "x1 = np.arange(min(X_test[:, -2]), max(X_test[:, -2]), 0.01)\n",
        "x2 = -(theta[0]/theta[2] * correction+theta[1]/theta[2]*x1)\n",
        "plt.plot(x1, x2, c='red', linewidth=2)\n",
        "\n",
        "plt.show()"
      ],
      "execution_count": 6,
      "outputs": [
        {
          "output_type": "display_data",
          "data": {
            "image/png": "[encoded data removed]",
            "text/plain": [
              "<Figure size 432x288 with 1 Axes>"
            ]
          },
          "metadata": {
            "tags": [],
            "needs_background": "light"
          }
        }
      ]
    }
  ]
}
