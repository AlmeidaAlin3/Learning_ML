{
  "nbformat": 4,
  "nbformat_minor": 0,
  "metadata": {
    "colab": {
      "name": "p01b_logreg.ipynb",
      "provenance": []
    },
    "kernelspec": {
      "name": "python3",
      "display_name": "Python 3"
    }
  },
  "cells": [
    {
      "cell_type": "code",
      "metadata": {
        "id": "OVk1xIQslLOM",
        "colab_type": "code",
        "colab": {}
      },
      "source": [
        "import os\n",
        "path = \"(...)/ps1/src\"\n",
        "os.chdir(path)\n",
        "\n",
        "%matplotlib inline\n",
        "\n",
        "import numpy as np\n",
        "import matplotlib.pyplot as plt\n",
        "\n",
        "import util\n",
        "from linear_model import LinearModel"
      ],
      "execution_count": 0,
      "outputs": []
    },
    {
      "cell_type": "code",
      "metadata": {
        "id": "z4rgf5HpuD7W",
        "colab_type": "code",
        "colab": {}
      },
      "source": [
        "class LogisticRegression(LinearModel):\n",
        "    \"\"\"Logistic regression with Newton's Method as the solver.\"\"\"\n",
        "\n",
        "    def fit(self, X, y):\n",
        "        #function g\n",
        "        g = lambda X: 1 / (1 + np.exp(-X))\n",
        "        m, n = X.shape\n",
        "        \n",
        "        # starting theta = 0\n",
        "        if self.theta is None:\n",
        "            self.theta = np.zeros(n)\n",
        "        \n",
        "        # update theta\n",
        "        while True:\n",
        "            theta = self.theta\n",
        "            \n",
        "            # J \n",
        "            X_theta = X.dot(theta)\n",
        "            J = -(1/m)*(y-g(X_theta)).dot(X)\n",
        "            \n",
        "            # H \n",
        "            H = (1/m)*g(X_theta).dot(g(1-X_theta))*(X.T).dot(X)\n",
        "            H_inv = np.linalg.inv(H)\n",
        "            \n",
        "            # theta update using Newton's Method\n",
        "            self.theta = theta - H_inv.dot(J)\n",
        "\n",
        "            # Plot decision boundary on top of validation set \n",
        "            plt.plot(self.theta*X)\n",
        "\n",
        "            \n",
        "            # if norm is small, then break\n",
        "            if np.linalg.norm(self.theta-theta, ord=1)<self.eps:\n",
        "                break\n",
        "\n",
        "    def predict(self, X):\n",
        "        g = lambda X: 1 / (1 + np.exp(-X))\n",
        "        preds = g(X.dot(self.theta))\n",
        "        return preds"
      ],
      "execution_count": 0,
      "outputs": []
    },
    {
      "cell_type": "code",
      "metadata": {
        "id": "OSJbL5T_1-LW",
        "colab_type": "code",
        "colab": {
          "base_uri": "https://localhost:8080/",
          "height": 279
        },
        "outputId": "25743e5b-7aa9-4d23-db49-e4a863525a35"
      },
      "source": [
        "train_path = \"(...)/ps1/data/ds1_train.csv\"\n",
        "eval_path = \"(...)/ps1/data/ds1_valid.csv\"\n",
        "\n",
        "#train a logistic regression classifier\n",
        "X_train, y_train = util.load_dataset(train_path, add_intercept=True)\n",
        "model = LogisticRegression(eps=1e-5, verbose=True)\n",
        "model.fit(X_train, y_train)\n",
        "\n",
        "# Plot decision boundary on top of validation set \n",
        "X_val, y_val = util.load_dataset(eval_path, add_intercept=True)\n",
        "y_pred = model.predict(X_val)\n",
        "util.plot(X_val, y_val, model.theta)"
      ],
      "execution_count": 12,
      "outputs": [
        {
          "output_type": "display_data",
          "data": {
            "image/png": "[encoded data removed]",
            "text/plain": [
              "<Figure size 432x288 with 1 Axes>"
            ]
          },
          "metadata": {
            "tags": [],
            "needs_background": "light"
          }
        }
      ]
    },
    {
      "cell_type": "code",
      "metadata": {
        "id": "xnlsBQZfMc0b",
        "colab_type": "code",
        "colab": {
          "base_uri": "https://localhost:8080/",
          "height": 121
        },
        "outputId": "6a1c959f-6de9-47ce-a2f0-e2375ff06441"
      },
      "source": [
        "y_val"
      ],
      "execution_count": 8,
      "outputs": [
        {
          "output_type": "execute_result",
          "data": {
            "text/plain": [
              "array([0., 0., 0., 0., 0., 0., 0., 0., 0., 0., 0., 0., 0., 0., 0., 0., 0.,\n",
              "       0., 0., 0., 0., 0., 0., 0., 0., 0., 0., 0., 0., 0., 0., 0., 0., 0.,\n",
              "       0., 0., 0., 0., 0., 0., 0., 0., 0., 0., 0., 0., 0., 0., 0., 0., 1.,\n",
              "       1., 1., 1., 1., 1., 1., 1., 1., 1., 1., 1., 1., 1., 1., 1., 1., 1.,\n",
              "       1., 1., 1., 1., 1., 1., 1., 1., 1., 1., 1., 1., 1., 1., 1., 1., 1.,\n",
              "       1., 1., 1., 1., 1., 1., 1., 1., 1., 1., 1., 1., 1., 1., 1.])"
            ]
          },
          "metadata": {
            "tags": []
          },
          "execution_count": 8
        }
      ]
    },
    {
      "cell_type": "code",
      "metadata": {
        "id": "xgDVa32iN03n",
        "colab_type": "code",
        "colab": {
          "base_uri": "https://localhost:8080/",
          "height": 121
        },
        "outputId": "37f2130d-74a0-4d75-c266-1ca507faf4ff"
      },
      "source": [
        "np.round(y_pred,0)"
      ],
      "execution_count": 11,
      "outputs": [
        {
          "output_type": "execute_result",
          "data": {
            "text/plain": [
              "array([0., 0., 1., 0., 0., 0., 0., 1., 0., 0., 0., 0., 0., 0., 0., 0., 0.,\n",
              "       1., 0., 0., 0., 0., 1., 1., 0., 0., 0., 0., 0., 0., 0., 0., 0., 0.,\n",
              "       0., 0., 0., 1., 0., 0., 0., 1., 0., 0., 0., 0., 0., 0., 0., 1., 1.,\n",
              "       1., 1., 1., 1., 1., 1., 1., 1., 1., 1., 1., 0., 1., 1., 1., 1., 1.,\n",
              "       1., 1., 1., 1., 1., 1., 1., 1., 1., 1., 1., 1., 0., 1., 1., 1., 1.,\n",
              "       1., 1., 1., 1., 1., 1., 1., 1., 1., 1., 1., 1., 1., 1., 1.])"
            ]
          },
          "metadata": {
            "tags": []
          },
          "execution_count": 11
        }
      ]
    }
  ]
}
