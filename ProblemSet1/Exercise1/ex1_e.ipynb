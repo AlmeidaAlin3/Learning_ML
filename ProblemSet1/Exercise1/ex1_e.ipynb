{
  "nbformat": 4,
  "nbformat_minor": 0,
  "metadata": {
    "colab": {
      "name": "P1_e.ipynb",
      "provenance": [],
      "collapsed_sections": []
    },
    "kernelspec": {
      "name": "python3",
      "display_name": "Python 3"
    }
  },
  "cells": [
    {
      "cell_type": "code",
      "metadata": {
        "id": "TpHgGafL2sjb",
        "colab_type": "code",
        "colab": {}
      },
      "source": [
        "# Add intercept \n",
        "import numpy as np\n",
        "def add_intercept(X):\n",
        "    \"\"\" Returns: New matrix same as X with 1's in the 0th column. \"\"\"\n",
        "    new_X = X.to_numpy()\n",
        "    new_X = np.zeros((X.shape[0], X.shape[1]+1), dtype = np.float)\n",
        "    new_X[:, 0] = 1\n",
        "    new_X[:,1:] = X\n",
        "    new_X = pd.DataFrame(new_X)\n",
        "\n",
        "    return new_X"
      ],
      "execution_count": 1,
      "outputs": []
    },
    {
      "cell_type": "code",
      "metadata": {
        "id": "UsziLwkYh0FT",
        "colab_type": "code",
        "colab": {}
      },
      "source": [
        "import pandas as pd\n",
        "\n",
        "#load data\n",
        "train_path = \"/content/drive/My Drive/Colab Notebooks/CS229/ps1/data/ds1_train.csv\"\n",
        "eval_path = \"/content/drive/My Drive/Colab Notebooks/CS229/ps1/data/ds1_valid.csv\"\n",
        "\n",
        "f_train = pd.read_csv(train_path)\n",
        "y_train = f_train[\"y\"]\n",
        "X_train = f_train.drop(axis=1, columns=\"y\")\n",
        "\n",
        "f_eval = pd.read_csv(eval_path)\n",
        "y_val = f_eval[\"y\"]\n",
        "X_val = f_eval.drop(axis=1, columns=\"y\")"
      ],
      "execution_count": 2,
      "outputs": []
    },
    {
      "cell_type": "code",
      "metadata": {
        "id": "kUuzl48to6xr",
        "colab_type": "code",
        "colab": {}
      },
      "source": [
        "class GDA(object):\n",
        "\n",
        "    def fit(self, X, y): # X should not have the intercept term    \n",
        "        d = X.copy()\n",
        "        d[\"y\"] = y\n",
        "        #print(d)\n",
        "           \n",
        "        x_y1 = d[d[\"y\"]==1]\n",
        "        x_y0 = d[d[\"y\"]==0]     \n",
        "        x_y1 = x_y1.drop(axis=1, columns=\"y\")\n",
        "        x_y0 = x_y0.drop(axis=1, columns=\"y\")\n",
        "        #print(x0)\n",
        "\n",
        "        #find phi, u_0, u_1 and sigma \n",
        "        m, n = X.shape\n",
        "        phi = y.sum()/m\n",
        "        #print(y.sum())\n",
        "        #print(phi)\n",
        "      \n",
        "        u_0 = x_y0.sum()/y.sum()\n",
        "        u_1 = x_y1.sum()/y.sum()\n",
        "        #print(u_0)\n",
        "        #print(u_1)\n",
        "        \n",
        "        diff = d.copy()\n",
        "        \n",
        "        #print(diff[diff[\"y\"]==0])\n",
        "        #print(diff[diff[\"y\"]==0][\"x_1\"])\n",
        "        #print(diff[diff[\"y\"]==0][\"x_1\"]-u_0[0])\n",
        "        \n",
        "        diff_y0_x1 = pd.DataFrame()\n",
        "        diff_y0_x2 = pd.DataFrame()\n",
        "        diff_y0_x1[\"x_1\"] = diff[diff[\"y\"]==0][\"x_1\"] - u_0[0]\n",
        "        diff_y0_x2[\"x_2\"] = diff[diff[\"y\"]==0][\"x_2\"] - u_0[1]\n",
        "        \n",
        "        diff_y1_x1 = pd.DataFrame()\n",
        "        diff_y1_x2 = pd.DataFrame()\n",
        "        diff_y1_x1[\"x_1\"] = diff[diff[\"y\"]==1][\"x_1\"] - u_1[0]\n",
        "        diff_y1_x2[\"x_2\"] = diff[diff[\"y\"]==1][\"x_2\"] - u_1[1]\n",
        "      \n",
        "        diff = pd.DataFrame()\n",
        "        diff = pd.concat([diff_y0_x1, diff_y1_x1])\n",
        "        diff[\"x_2\"] = pd.concat([diff_y0_x2, diff_y1_x2])\n",
        "        #print(diff)\n",
        "\n",
        "        diff = diff.to_numpy()\n",
        "        sigma = (1/m)*diff.T.dot(diff)\n",
        "        #print(sigma)\n",
        "\n",
        "        #Write theta in terms of the parameters\n",
        "        from numpy.linalg import inv\n",
        "        sigma_inv = inv(sigma)\n",
        "        \n",
        "        u_0 = u_0.to_numpy()\n",
        "        u_1 = u_1.to_numpy()\n",
        "        theta = inv(sigma).dot(u_1 - u_0)\n",
        "\n",
        "        #print(theta)\n",
        "        theta0 = (1/2)*(u_0.T.dot(sigma_inv).dot(u_0) - u_1.T.dot(sigma_inv).dot(u_1)) - np.log((1-phi)/phi)\n",
        "        theta0 = np.array([theta0])\n",
        "        theta = np.hstack([theta0, theta])\n",
        "        self.theta = theta\n",
        "        return theta\n",
        "\n",
        "    def predict(self, X):\n",
        "        sigmoid = lambda z: 1/(1+np.exp(-z))\n",
        "        X = add_intercept(X)\n",
        "        #print(X)\n",
        "        X = X.to_numpy()\n",
        "        probs = sigmoid(X.dot(self.theta))\n",
        "        preds = (probs >= 0.5).astype(np.int)\n",
        "        return preds"
      ],
      "execution_count": 3,
      "outputs": []
    },
    {
      "cell_type": "code",
      "metadata": {
        "id": "7qS5Arpgry7A",
        "colab_type": "code",
        "colab": {
          "base_uri": "https://localhost:8080/",
          "height": 34
        },
        "outputId": "566b3cc3-4cdd-4d8e-9d78-c2bb70379fc6"
      },
      "source": [
        "import matplotlib.pyplot as plt\n",
        "%matplotlib inline\n",
        "\n",
        "#train a GDA classifier\n",
        "model = GDA()\n",
        "model.fit(X_train, y_train)\n",
        "print(model.theta)"
      ],
      "execution_count": 4,
      "outputs": [
        {
          "output_type": "stream",
          "text": [
            "[-6.17158405  2.22055506 -0.01763375]\n"
          ],
          "name": "stdout"
        }
      ]
    },
    {
      "cell_type": "code",
      "metadata": {
        "id": "Py2s0c_Cu_6I",
        "colab_type": "code",
        "colab": {}
      },
      "source": [
        "# Plot decision boundary on top of validation set \n",
        "y_pred = model.predict(X_val)"
      ],
      "execution_count": 5,
      "outputs": []
    },
    {
      "cell_type": "code",
      "metadata": {
        "id": "AoOBU0YX_6ZB",
        "colab_type": "code",
        "colab": {
          "base_uri": "https://localhost:8080/",
          "height": 279
        },
        "outputId": "af9d9f30-c33d-4b6a-ed08-0fbaf4b50015"
      },
      "source": [
        "d_val = X_val.copy()\n",
        "d_val[\"y\"] = y_val\n",
        "#print(d_val)\n",
        "\n",
        "plt.plot(d_val[d_val[\"y\"]==1][\"x_1\"], d_val[d_val[\"y\"]==1][\"x_2\"], \"bx\")\n",
        "plt.plot(d_val[d_val[\"y\"]==0][\"x_1\"], d_val[d_val[\"y\"]==0][\"x_2\"], \"go\")\n",
        "plt.xlabel(\"x1\")\n",
        "plt.ylabel(\"x2\")\n",
        "\n",
        "# Plot decision boundary (found by solving for theta^T x = 0)\n",
        "theta = model.theta\n",
        "X_val = X_val.to_numpy()\n",
        "x1 = np.arange(min(X_val[:, -2]), max(X_val[:, -2]), 0.01)\n",
        "x2 = -(theta[0]/theta[2] * 1+theta[1]/theta[2]*x1)\n",
        "plt.plot(x1, x2, c='red', linewidth=2)\n",
        "\n",
        "plt.show()\n"
      ],
      "execution_count": 12,
      "outputs": [
        {
          "output_type": "display_data",
          "data": {
            "image/png": "[encoded data removed]",
            "text/plain": [
              "<Figure size 432x288 with 1 Axes>"
            ]
          },
          "metadata": {
            "tags": [],
            "needs_background": "light"
          }
        }
      ]
    }
  ]
}
