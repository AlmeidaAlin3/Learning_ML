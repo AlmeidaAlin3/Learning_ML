{
  "nbformat": 4,
  "nbformat_minor": 0,
  "metadata": {
    "colab": {
      "name": "P5_b.ipynb",
      "provenance": [],
      "collapsed_sections": []
    },
    "kernelspec": {
      "name": "python3",
      "display_name": "Python 3"
    }
  },
  "cells": [
    {
      "cell_type": "code",
      "metadata": {
        "id": "OVk1xIQslLOM",
        "colab_type": "code",
        "colab": {}
      },
      "source": [
        "import os\n",
        "path = \"(...)/ps1/src\"\n",
        "os.chdir(path)\n",
        "\n",
        "import numpy as np\n",
        "import matplotlib.pyplot as plt\n",
        "%matplotlib inline\n",
        "\n",
        "import util\n",
        "from linear_model import LinearModel"
      ],
      "execution_count": 0,
      "outputs": []
    },
    {
      "cell_type": "code",
      "metadata": {
        "id": "z4rgf5HpuD7W",
        "colab_type": "code",
        "colab": {}
      },
      "source": [
        "class LocallyWeightedLinearRegression(LinearModel):\n",
        "    def __init__(self, tau):\n",
        "        super(LocallyWeightedLinearRegression, self).__init__()\n",
        "        self.tau = tau\n",
        "        self.X = None\n",
        "        self.y = None\n",
        "\n",
        "    def fit(self, X, y):\n",
        "        \"\"\"Fit LWR by saving the training set\"\"\"\n",
        "        self.X = X\n",
        "        self.y = y\n",
        "\n",
        "    def predict(self, X):\n",
        "        \"\"\"Make predictions given inputs x\"\"\"\n",
        "        from numpy.linalg import inv, norm\n",
        "        \n",
        "        m, n = X.shape\n",
        "        g = lambda X: np.exp(-(X**2)/(2*self.tau**2))\n",
        "        \n",
        "        # Compute w for each x\n",
        "        w = g(norm(self.X[None]-X[:,None], axis=2))\n",
        "        y_pred = np.zeros(m)  \n",
        "        for i, W in enumerate(w):\n",
        "            W = np.diag(W)\n",
        "            theta = inv(self.X.T.dot(W).dot(self.X)).dot(self.X.T).dot(W).dot(self.y)           \n",
        "            # make prediction\n",
        "            y_pred[i] = X[i].dot(theta)\n",
        "        return (y_pred)"
      ],
      "execution_count": 0,
      "outputs": []
    },
    {
      "cell_type": "code",
      "metadata": {
        "id": "elj_8fNLRmpi",
        "colab_type": "code",
        "colab": {
          "base_uri": "https://localhost:8080/",
          "height": 34
        },
        "outputId": "e826024d-1b5b-4a84-c45b-4e599462b399"
      },
      "source": [
        "# Load training set\n",
        "train_path = \"(...)/ps1/data/ds5_train.csv\"\n",
        "eval_path = \"(...)/ps1/data/ds5_valid.csv\"\n",
        "X_train, y_train = util.load_dataset(train_path, add_intercept=True)\n",
        "\n",
        "# Fit a LWR model\n",
        "tau = 10\n",
        "model = LocallyWeightedLinearRegression(tau)\n",
        "model.fit(X_train, y_train)\n",
        "\n",
        "# Get MSE value on the validation set\n",
        "X_val, y_val = util.load_dataset(eval_path, add_intercept=True)\n",
        "y_pred = model.predict(X_val)\n",
        "\n",
        "mse = ((y_pred - y_val)** 2).mean()\n",
        "print(mse)"
      ],
      "execution_count": 54,
      "outputs": [
        {
          "output_type": "stream",
          "text": [
            "0.4337439227232362\n"
          ],
          "name": "stdout"
        }
      ]
    },
    {
      "cell_type": "code",
      "metadata": {
        "id": "Qapn78zcZ49-",
        "colab_type": "code",
        "colab": {
          "base_uri": "https://localhost:8080/",
          "height": 265
        },
        "outputId": "519494c2-40fc-4ff3-c5a6-1f2bd9cfaf47"
      },
      "source": [
        "#plot    \n",
        "import matplotlib.pyplot as plt\n",
        "plt.figure()\n",
        "plt.plot(X_train, y_train, 'bx')\n",
        "plt.plot(X_val, y_pred, 'ro')\n",
        "plt.show()"
      ],
      "execution_count": 56,
      "outputs": [
        {
          "output_type": "display_data",
          "data": {
            "image/png": "[encoded data removed]",
            "text/plain": [
              "<Figure size 432x288 with 1 Axes>"
            ]
          },
          "metadata": {
            "tags": [],
            "needs_background": "light"
          }
        }
      ]
    }
  ]
}
